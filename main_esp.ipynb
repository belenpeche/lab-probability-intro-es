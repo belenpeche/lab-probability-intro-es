{
 "cells": [
  {
   "cell_type": "markdown",
   "metadata": {},
   "source": [
    "# Probability"
   ]
  },
  {
   "cell_type": "markdown",
   "metadata": {},
   "source": [
    "## Reto 1\n",
    "Hay una caja con 10 bolas blancas, 12 bolas rojas y 8 bolas negras. Calcula la probabilidad de:\n",
    "* Sacar una bola blanca.\n",
    "* Sacar una bola blanca en la primera extracción y una bola negra en la segunda extracción sin reemplazar la primera.\n",
    "* Sacar una bola blanca en la primera extracción y una bola negra en la segunda extracción reemplazando la primera.\n",
    "* Sacar 3 bolas y que sean todas de diferentes colores."
   ]
  },
  {
   "cell_type": "code",
   "execution_count": 1,
   "metadata": {},
   "outputs": [
    {
     "name": "stdout",
     "output_type": "stream",
     "text": [
      "Probabilidad de sacar una bola blanca: 0.3333\n"
     ]
    },
    {
     "ename": "NameError",
     "evalue": "name 'prob_bola_blanca_primera' is not defined",
     "output_type": "error",
     "traceback": [
      "\u001b[0;31m---------------------------------------------------------------------------\u001b[0m",
      "\u001b[0;31mNameError\u001b[0m                                 Traceback (most recent call last)",
      "Cell \u001b[0;32mIn[1], line 12\u001b[0m\n\u001b[1;32m      9\u001b[0m \u001b[38;5;28mprint\u001b[39m(\u001b[38;5;124mf\u001b[39m\u001b[38;5;124m\"\u001b[39m\u001b[38;5;124mProbabilidad de sacar una bola blanca: \u001b[39m\u001b[38;5;132;01m{\u001b[39;00mprob_bola_blanca\u001b[38;5;132;01m:\u001b[39;00m\u001b[38;5;124m.4f\u001b[39m\u001b[38;5;132;01m}\u001b[39;00m\u001b[38;5;124m\"\u001b[39m)\n\u001b[1;32m     11\u001b[0m prob_bola_negra_segunda \u001b[38;5;241m=\u001b[39m bolas_negras \u001b[38;5;241m/\u001b[39m (total_bolas \u001b[38;5;241m-\u001b[39m \u001b[38;5;241m1\u001b[39m)\n\u001b[0;32m---> 12\u001b[0m prob_blanca_negra_sin_reemplazo \u001b[38;5;241m=\u001b[39m \u001b[43mprob_bola_blanca_primera\u001b[49m \u001b[38;5;241m*\u001b[39m prob_bola_negra_segunda\n\u001b[1;32m     13\u001b[0m \u001b[38;5;28mprint\u001b[39m(\u001b[38;5;124mf\u001b[39m\u001b[38;5;124m\"\u001b[39m\u001b[38;5;124mProbabilidad de sacar una bola blanca en la primera extracción y una bola negra en la segunda extracción sin reemplazar la primera: \u001b[39m\u001b[38;5;132;01m{\u001b[39;00mprob_blanca_negra_sin_reemplazo\u001b[38;5;132;01m:\u001b[39;00m\u001b[38;5;124m.4f\u001b[39m\u001b[38;5;132;01m}\u001b[39;00m\u001b[38;5;124m\"\u001b[39m)\n\u001b[1;32m     16\u001b[0m prob_blanca_negra_con_reemplazo \u001b[38;5;241m=\u001b[39m prob_bola_blanca_primera \u001b[38;5;241m*\u001b[39m prob_bola_negra_segunda_reemplazo\n",
      "\u001b[0;31mNameError\u001b[0m: name 'prob_bola_blanca_primera' is not defined"
     ]
    }
   ],
   "source": [
    "from math import comb\n",
    "\n",
    "bolas_blancas = 10\n",
    "bolas_rojas = 12\n",
    "bolas_negras = 8\n",
    "total_bolas = bolas_blancas + bolas_rojas + bolas_negras\n",
    "\n",
    "prob_bola_blanca = bolas_blancas / total_bolas\n",
    "print(f\"Probabilidad de sacar una bola blanca: {prob_bola_blanca:.4f}\")\n",
    "\n",
    "prob_bola_negra_segunda = bolas_negras / (total_bolas - 1)\n",
    "prob_blanca_negra_sin_reemplazo = prob_bola_blanca_primera * prob_bola_negra_segunda\n",
    "print(f\"Probabilidad de sacar una bola blanca en la primera extracción y una bola negra en la segunda extracción sin reemplazar la primera: {prob_blanca_negra_sin_reemplazo:.4f}\")\n",
    "\n",
    "\n",
    "prob_blanca_negra_con_reemplazo = prob_bola_blanca_primera * prob_bola_negra_segunda_reemplazo\n",
    "print(f\"Probabilidad de sacar una bola blanca en la primera extracción y una bola negra en la segunda extracción reemplazando la primera: {prob_blanca_negra_con_reemplazo:.4f}\")\n",
    "\n",
    "\n",
    "total_formas_sacar_3 = comb(total_bolas, 3)\n",
    "\n",
    "formas_blanca_roja_negra = bolas_blancas * bolas_rojas * bolas_negras\n",
    "\n",
    "prob_tres_diferentes_colores = formas_blanca_roja_negra / total_formas_sacar_3\n",
    "print(f\"Probabilidad de sacar 3 bolas y que sean todas de diferentes colores: {prob_tres_diferentes_colores:.4f}\")\n"
   ]
  },
  {
   "cell_type": "markdown",
   "metadata": {},
   "source": [
    "## Reto 2\n",
    "\n",
    "Quieres ir de picnic el sábado. Odias la lluvia y quieres planificar tu fin de semana. Para ayudarte a tomar una decisión, recopilas los siguientes datos sobre los días lluviosos:\n",
    "\n",
    "* El 40% de todos los días están nublados.\n",
    "* Aproximadamente el 50% de los días nublados son lluviosos.\n",
    "* Aproximadamente el 20% de los días no nublados son lluviosos.\n",
    "\n",
    "¿Cuál es la probabilidad de que llueva el próximo sábado?"
   ]
  },
  {
   "cell_type": "code",
   "execution_count": 2,
   "metadata": {},
   "outputs": [
    {
     "name": "stdout",
     "output_type": "stream",
     "text": [
      "La probabilidad de que llueva el próximo sábado es: 0.3200\n"
     ]
    }
   ],
   "source": [
    "\n",
    "P_N = 0.40  # Probabilidad de que un día esté nublado\n",
    "P_R_given_N = 0.50  # Probabilidad de que un día sea lluvioso dado que está nublado\n",
    "P_R_given_not_N = 0.20  # Probabilidad de que un día sea lluvioso dado que no está nublado\n",
    "\n",
    "# Probabilidad de que un día no esté nublado\n",
    "P_not_N = 1 - P_N\n",
    "\n",
    "# Teorema de la Probabilidad Total\n",
    "P_R = P_R_given_N * P_N + P_R_given_not_N * P_not_N\n",
    "\n",
    "print(f\"La probabilidad de que llueva el próximo sábado es: {P_R:.4f}\")\n"
   ]
  },
  {
   "cell_type": "markdown",
   "metadata": {},
   "source": [
    "## Reto 3\n",
    "\n",
    "A y B son eventos de una probabilidad tal que \\(P(A) = 0.3\\), \\(P(B) = 0.6\\) y \\(P(A \\cap B) = 0.1\\)\n",
    "\n",
    "¿Cuáles de las siguientes afirmaciones son verdaderas?\n",
    "**SUGERENCIA: dibuja un gran diagrama de Venn a tu lado**\n",
    "* \\(P(\\overline{A}) = 0.7\\)\n",
    "* \\(P(A \\cup B) = 0.6\\)\n",
    "* \\(P(A \\cap \\overline{B}) = 0.2\\)\n",
    "* \\(P(A \\cup \\overline{A}) = 1\\)  \n",
    "* \\(P(A \\cap (B \\cup \\overline{B})) = 0.4\\)\n",
    "* \\(P(\\overline{A} \\cap \\overline{B}) = 0.3\\)\n",
    "* \\(P(\\overline{A \\cap B}) = 0.9\\)"
   ]
  },
  {
   "cell_type": "code",
   "execution_count": 3,
   "metadata": {},
   "outputs": [
    {
     "name": "stdout",
     "output_type": "stream",
     "text": [
      "1. P(¬A) = 0.7: True\n",
      "2. P(A ∪ B) = 0.6: False\n",
      "3. P(A ∩ ¬B) = 0.2: False\n",
      "4. P(A ∪ ¬A) = 1: True\n",
      "5. P(A ∩ (B ∪ ¬B)) = 0.3: True\n",
      "6. P(¬A ∩ ¬B) = 0.3: False\n",
      "7. P(¬(A ∩ B)) = 0.9: True\n"
     ]
    }
   ],
   "source": [
    "# Datos del problema\n",
    "P_A = 0.3\n",
    "P_B = 0.6\n",
    "P_A_and_B = 0.1\n",
    "\n",
    "# 1. P(¬A) = 0.7\n",
    "P_not_A = 1 - P_A\n",
    "print(f\"1. P(¬A) = 0.7: {P_not_A == 0.7}\")\n",
    "\n",
    "# 2. P(A ∪ B) = 0.6\n",
    "P_A_or_B = P_A + P_B - P_A_and_B\n",
    "print(f\"2. P(A ∪ B) = 0.6: {P_A_or_B == 0.6}\")\n",
    "\n",
    "# 3. P(A ∩ ¬B) = 0.2\n",
    "P_A_and_not_B = P_A - P_A_and_B\n",
    "print(f\"3. P(A ∩ ¬B) = 0.2: {P_A_and_not_B == 0.2}\")\n",
    "\n",
    "# 4. P(A ∪ ¬A) = 1\n",
    "P_A_or_not_A = 1\n",
    "print(f\"4. P(A ∪ ¬A) = 1: {P_A_or_not_A == 1}\")\n",
    "\n",
    "# 5. P(A ∩ (B ∪ ¬B)) = 0.3\n",
    "P_B_or_not_B = 1\n",
    "P_A_and_B_or_not_B = P_A\n",
    "print(f\"5. P(A ∩ (B ∪ ¬B)) = 0.3: {P_A_and_B_or_not_B == 0.3}\")\n",
    "\n",
    "# 6. P(¬A ∩ ¬B) = 0.3\n",
    "P_not_A_and_not_B = 1 - P_A_or_B\n",
    "print(f\"6. P(¬A ∩ ¬B) = 0.3: {P_not_A_and_not_B == 0.3}\")\n",
    "\n",
    "# 7. P(¬(A ∩ B)) = 0.9\n",
    "P_not_A_and_B = 1 - P_A_and_B\n",
    "print(f\"7. P(¬(A ∩ B)) = 0.9: {P_not_A_and_B == 0.9}\")\n"
   ]
  },
  {
   "cell_type": "markdown",
   "metadata": {},
   "source": [
    "## Reto 4\n",
    "\n",
    "* Si alguien viaja a China, la probabilidad de contraer Covid es del 1%\n",
    "* Si alguien viaja a Italia, la probabilidad de contraer Covid es del 20%\n",
    "\n",
    "Lanzo un dado con números 1, 2, 3, 4, 5, 6:\n",
    "* Si sale 1: Vuelo a Italia\n",
    "* Si no sale 1: Vuelo a China\n",
    "\n",
    "Durante mi viaje, contraje Covid. ¿Cuál es la probabilidad de que haya volado a China?"
   ]
  },
  {
   "cell_type": "code",
   "execution_count": 4,
   "metadata": {},
   "outputs": [
    {
     "name": "stdout",
     "output_type": "stream",
     "text": [
      "La probabilidad de que haya volado a China dado que contraje Covid es: 0.2000\n"
     ]
    }
   ],
   "source": [
    "P_Covid_given_I = 0.20\n",
    "P_Covid_given_C = 0.01\n",
    "P_I = 1 / 6\n",
    "P_C = 5 / 6\n",
    "\n",
    "# Probabilidad total de contraer Covid\n",
    "P_Covid = P_Covid_given_I * P_I + P_Covid_given_C * P_C\n",
    "\n",
    "# Probabilidad de haber volado a China dado que se contrajo Covid\n",
    "P_C_given_Covid = (P_Covid_given_C * P_C) / P_Covid\n",
    "\n",
    "print(f\"La probabilidad de que haya volado a China dado que contraje Covid es: {P_C_given_Covid:.4f}\")\n"
   ]
  },
  {
   "cell_type": "markdown",
   "metadata": {},
   "source": [
    "## BONUS\n",
    "\n",
    "Lanzas 2 dados. ¿Cuál es la probabilidad de que la suma de los números sea 7? ¿Y 8? ¿Y 9? Luego simula 10000 veces y dibuja un gráfico de conteo.\n",
    "\n",
    "Explicación:\n",
    "\n",
    "Importación de bibliotecas: Importamos las bibliotecas necesarias para generar números aleatorios y para graficar.\n",
    "\n",
    "Simulación de lanzamientos: Simulamos 10,000 lanzamientos de dos dados usando random.randint(1, 6) para cada dado y calculamos la suma.\n",
    "\n",
    "Conteo de las sumas: Contamos las frecuencias de cada posible suma (desde 2 hasta 12).\n",
    "\n",
    "Graficar los resultados: Usamos matplotlib para crear un gráfico de barras que muestra la frecuencia de cada suma obtenida en la simulación."
   ]
  },
  {
   "cell_type": "code",
   "execution_count": 5,
   "metadata": {},
   "outputs": [
    {
     "data": {
      "image/png": "[encoded data removed]",
      "text/plain": [
       "<Figure size 1000x600 with 1 Axes>"
      ]
     },
     "metadata": {},
     "output_type": "display_data"
    }
   ],
   "source": [
    "import random\n",
    "import matplotlib.pyplot as plt\n",
    "\n",
    "# Simulación de lanzamientos de dos dados\n",
    "num_simulaciones = 10000\n",
    "resultados = []\n",
    "\n",
    "for _ in range(num_simulaciones):\n",
    "    dado1 = random.randint(1, 6)\n",
    "    dado2 = random.randint(1, 6)\n",
    "    suma = dado1 + dado2\n",
    "    resultados.append(suma)\n",
    "\n",
    "# Conteo de las sumas\n",
    "conteo_sumas = [resultados.count(i) for i in range(2, 13)]\n",
    "\n",
    "# Graficar los resultados\n",
    "plt.figure(figsize=(10, 6))\n",
    "plt.bar(range(2, 13), conteo_sumas, color='blue', edgecolor='black')\n",
    "plt.xlabel('Suma de los dos dados')\n",
    "plt.ylabel('Frecuencia')\n",
    "plt.title('Frecuencia de las sumas obtenidas al lanzar dos dados (10000 simulaciones)')\n",
    "plt.xticks(range(2, 13))\n",
    "plt.grid(axis='y')\n",
    "plt.show()\n"
   ]
  },
  {
   "cell_type": "code",
   "execution_count": null,
   "metadata": {},
   "outputs": [],
   "source": []
  }
 ],
 "metadata": {
  "kernelspec": {
   "display_name": "Python 3 (ipykernel)",
   "language": "python",
   "name": "python3"
  },
  "language_info": {
   "codemirror_mode": {
    "name": "ipython",
    "version": 3
   },
   "file_extension": ".py",
   "mimetype": "text/x-python",
   "name": "python",
   "nbconvert_exporter": "python",
   "pygments_lexer": "ipython3",
   "version": "3.12.3"
  },
  "toc": {
   "base_numbering": 1,
   "nav_menu": {},
   "number_sections": false,
   "sideBar": true,
   "skip_h1_title": false,
   "title_cell": "Table of Contents",
   "title_sidebar": "Contents",
   "toc_cell": false,
   "toc_position": {
    "height": "calc(100% - 180px)",
    "left": "10px",
    "top": "150px",
    "width": "296.475px"
   },
   "toc_section_display": true,
   "toc_window_display": false
  },
  "varInspector": {
   "cols": {
    "lenName": 16,
    "lenType": 16,
    "lenVar": 40
   },
   "kernels_config": {
    "python": {
     "delete_cmd_postfix": "",
     "delete_cmd_prefix": "del ",
     "library": "var_list.py",
     "varRefreshCmd": "print(var_dic_list())"
    },
    "r": {
     "delete_cmd_postfix": ") ",
     "delete_cmd_prefix": "rm(",
     "library": "var_list.r",
     "varRefreshCmd": "cat(var_dic_list()) "
    }
   },
   "types_to_exclude": [
    "module",
    "function",
    "builtin_function_or_method",
    "instance",
    "_Feature"
   ],
   "window_display": false
  }
 },
 "nbformat": 4,
 "nbformat_minor": 4
}
